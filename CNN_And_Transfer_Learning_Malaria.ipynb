{
  "nbformat": 4,
  "nbformat_minor": 0,
  "metadata": {
    "kernelspec": {
      "display_name": "Python 3",
      "language": "python",
      "name": "python3"
    },
    "language_info": {
      "codemirror_mode": {
        "name": "ipython",
        "version": 3
      },
      "file_extension": ".py",
      "mimetype": "text/x-python",
      "name": "python",
      "nbconvert_exporter": "python",
      "pygments_lexer": "ipython3",
      "version": "3.7.4"
    },
    "colab": {
      "name": "CNN And Transfer Learning_Malaria.ipynb",
      "provenance": []
    },
    "accelerator": "GPU"
  },
  "cells": [
    {
      "cell_type": "markdown",
      "metadata": {
        "id": "T2jtdhvw6QVr"
      },
      "source": [
        "## Creating CNN Using Scratch And Transfer Learning"
      ]
    },
    {
      "cell_type": "code",
      "metadata": {
        "id": "-IttCLEw60RN",
        "outputId": "64be3590-ceab-4183-c342-31286c39b31a",
        "colab": {
          "base_uri": "https://localhost:8080/",
          "height": 33
        }
      },
      "source": [
        "from google.colab import drive\n",
        "drive.mount('/content/drive')"
      ],
      "execution_count": null,
      "outputs": [
        {
          "output_type": "stream",
          "text": [
            "Mounted at /content/drive\n"
          ],
          "name": "stdout"
        }
      ]
    },
    {
      "cell_type": "markdown",
      "metadata": {
        "id": "JTrJV42F6QVt"
      },
      "source": [
        "Please download the dataset from the below url"
      ]
    },
    {
      "cell_type": "code",
      "metadata": {
        "id": "I-YhNQgS6QVu"
      },
      "source": [
        "# import the libraries as shown below\n",
        "\n",
        "from tensorflow.keras.layers import Input, Lambda, Dense, Flatten,Conv2D\n",
        "from tensorflow.keras.models import Model\n",
        "from tensorflow.keras.applications.vgg19 import VGG19\n",
        "from tensorflow.keras.applications.resnet50 import preprocess_input\n",
        "from tensorflow.keras.preprocessing import image\n",
        "from tensorflow.keras.preprocessing.image import ImageDataGenerator,load_img\n",
        "from tensorflow.keras.models import Sequential\n",
        "import numpy as np\n",
        "from glob import glob\n",
        "import matplotlib.pyplot as plt"
      ],
      "execution_count": null,
      "outputs": []
    },
    {
      "cell_type": "code",
      "metadata": {
        "id": "is3O33Ky6QV0"
      },
      "source": [
        "# re-size all the images to this\n",
        "IMAGE_SIZE = [224, 224]\n",
        "\n",
        "train_path = 'drive/My Drive/Dataset2/cell_images'\n",
        "valid_path = 'drive/My Drive/Dataset/Test'\n"
      ],
      "execution_count": null,
      "outputs": []
    },
    {
      "cell_type": "code",
      "metadata": {
        "id": "MOBTJy8U6QV4",
        "outputId": "b749e9bb-0157-4454-b41a-f44b7122405c",
        "colab": {
          "base_uri": "https://localhost:8080/",
          "height": 50
        }
      },
      "source": [
        "# Import the Vgg 16 library as shown below and add preprocessing layer to the front of VGG\n",
        "# Here we will be using imagenet weights\n",
        "\n",
        "mobilnet = VGG19(input_shape=IMAGE_SIZE + [3], weights='imagenet', include_top=False)\n",
        "\n",
        "\n"
      ],
      "execution_count": null,
      "outputs": [
        {
          "output_type": "stream",
          "text": [
            "Downloading data from https://storage.googleapis.com/tensorflow/keras-applications/vgg19/vgg19_weights_tf_dim_ordering_tf_kernels_notop.h5\n",
            "80142336/80134624 [==============================] - 3s 0us/step\n"
          ],
          "name": "stdout"
        }
      ]
    },
    {
      "cell_type": "code",
      "metadata": {
        "id": "FyNBWR9N6QV-"
      },
      "source": [
        "# don't train existing weights\n",
        "for layer in mobilnet.layers:\n",
        "    layer.trainable = False"
      ],
      "execution_count": null,
      "outputs": []
    },
    {
      "cell_type": "code",
      "metadata": {
        "id": "vIqjrkpx6QWC"
      },
      "source": [
        "  # useful for getting number of output classes\n",
        "folders = glob('drive/My Drive/Dataset2/cell_images/*')"
      ],
      "execution_count": null,
      "outputs": []
    },
    {
      "cell_type": "code",
      "metadata": {
        "id": "ePGO8Dnd6QWH",
        "outputId": "4cfa1f3b-d667-498c-822f-39d174291c7b",
        "colab": {
          "base_uri": "https://localhost:8080/",
          "height": 50
        }
      },
      "source": [
        "folders"
      ],
      "execution_count": null,
      "outputs": [
        {
          "output_type": "execute_result",
          "data": {
            "text/plain": [
              "['drive/My Drive/Dataset2/cell_images/Uninfected',\n",
              " 'drive/My Drive/Dataset2/cell_images/Parasitized']"
            ]
          },
          "metadata": {
            "tags": []
          },
          "execution_count": 9
        }
      ]
    },
    {
      "cell_type": "code",
      "metadata": {
        "id": "vNhDq6gR6QWM"
      },
      "source": [
        "# our layers - you can add more if you want\n",
        "x = Flatten()(mobilnet.output)"
      ],
      "execution_count": null,
      "outputs": []
    },
    {
      "cell_type": "code",
      "metadata": {
        "id": "OYTDxn0R6QWR"
      },
      "source": [
        "prediction = Dense(len(folders), activation='softmax')(x)\n",
        "\n",
        "# create a model object\n",
        "model = Model(inputs=mobilnet.input, outputs=prediction)"
      ],
      "execution_count": null,
      "outputs": []
    },
    {
      "cell_type": "code",
      "metadata": {
        "id": "idzyQpt-6QWV",
        "outputId": "efe4d8cd-5c68-43b6-f529-6ae933ce6dd9",
        "colab": {
          "base_uri": "https://localhost:8080/",
          "height": 950
        }
      },
      "source": [
        "\n",
        "# view the structure of the model\n",
        "model.summary()\n"
      ],
      "execution_count": null,
      "outputs": [
        {
          "output_type": "stream",
          "text": [
            "Model: \"functional_1\"\n",
            "_________________________________________________________________\n",
            "Layer (type)                 Output Shape              Param #   \n",
            "=================================================================\n",
            "input_1 (InputLayer)         [(None, 224, 224, 3)]     0         \n",
            "_________________________________________________________________\n",
            "block1_conv1 (Conv2D)        (None, 224, 224, 64)      1792      \n",
            "_________________________________________________________________\n",
            "block1_conv2 (Conv2D)        (None, 224, 224, 64)      36928     \n",
            "_________________________________________________________________\n",
            "block1_pool (MaxPooling2D)   (None, 112, 112, 64)      0         \n",
            "_________________________________________________________________\n",
            "block2_conv1 (Conv2D)        (None, 112, 112, 128)     73856     \n",
            "_________________________________________________________________\n",
            "block2_conv2 (Conv2D)        (None, 112, 112, 128)     147584    \n",
            "_________________________________________________________________\n",
            "block2_pool (MaxPooling2D)   (None, 56, 56, 128)       0         \n",
            "_________________________________________________________________\n",
            "block3_conv1 (Conv2D)        (None, 56, 56, 256)       295168    \n",
            "_________________________________________________________________\n",
            "block3_conv2 (Conv2D)        (None, 56, 56, 256)       590080    \n",
            "_________________________________________________________________\n",
            "block3_conv3 (Conv2D)        (None, 56, 56, 256)       590080    \n",
            "_________________________________________________________________\n",
            "block3_conv4 (Conv2D)        (None, 56, 56, 256)       590080    \n",
            "_________________________________________________________________\n",
            "block3_pool (MaxPooling2D)   (None, 28, 28, 256)       0         \n",
            "_________________________________________________________________\n",
            "block4_conv1 (Conv2D)        (None, 28, 28, 512)       1180160   \n",
            "_________________________________________________________________\n",
            "block4_conv2 (Conv2D)        (None, 28, 28, 512)       2359808   \n",
            "_________________________________________________________________\n",
            "block4_conv3 (Conv2D)        (None, 28, 28, 512)       2359808   \n",
            "_________________________________________________________________\n",
            "block4_conv4 (Conv2D)        (None, 28, 28, 512)       2359808   \n",
            "_________________________________________________________________\n",
            "block4_pool (MaxPooling2D)   (None, 14, 14, 512)       0         \n",
            "_________________________________________________________________\n",
            "block5_conv1 (Conv2D)        (None, 14, 14, 512)       2359808   \n",
            "_________________________________________________________________\n",
            "block5_conv2 (Conv2D)        (None, 14, 14, 512)       2359808   \n",
            "_________________________________________________________________\n",
            "block5_conv3 (Conv2D)        (None, 14, 14, 512)       2359808   \n",
            "_________________________________________________________________\n",
            "block5_conv4 (Conv2D)        (None, 14, 14, 512)       2359808   \n",
            "_________________________________________________________________\n",
            "block5_pool (MaxPooling2D)   (None, 7, 7, 512)         0         \n",
            "_________________________________________________________________\n",
            "flatten (Flatten)            (None, 25088)             0         \n",
            "_________________________________________________________________\n",
            "dense (Dense)                (None, 2)                 50178     \n",
            "=================================================================\n",
            "Total params: 20,074,562\n",
            "Trainable params: 50,178\n",
            "Non-trainable params: 20,024,384\n",
            "_________________________________________________________________\n"
          ],
          "name": "stdout"
        }
      ]
    },
    {
      "cell_type": "code",
      "metadata": {
        "id": "xBqRCM5C6QWZ"
      },
      "source": [
        "from tensorflow.keras.layers import MaxPooling2D"
      ],
      "execution_count": null,
      "outputs": []
    },
    {
      "cell_type": "code",
      "metadata": {
        "id": "WMCX8wXc6QWd",
        "outputId": "dd86d08d-fe05-41b4-f940-5b8f4ace26f0",
        "colab": {
          "base_uri": "https://localhost:8080/",
          "height": 450
        }
      },
      "source": [
        "### Create Model from scratch using CNN\n",
        "model=Sequential()\n",
        "model.add(Conv2D(filters=16,kernel_size=2,padding=\"same\",activation=\"relu\",input_shape=(224,224,3)))\n",
        "model.add(MaxPooling2D(pool_size=2))\n",
        "model.add(Conv2D(filters=32,kernel_size=2,padding=\"same\",activation =\"relu\"))\n",
        "model.add(MaxPooling2D(pool_size=2))\n",
        "model.add(Conv2D(filters=64,kernel_size=2,padding=\"same\",activation=\"relu\"))\n",
        "model.add(MaxPooling2D(pool_size=2))\n",
        "model.add(Flatten())\n",
        "model.add(Dense(500,activation=\"relu\"))\n",
        "model.add(Dense(2,activation=\"softmax\"))\n",
        "model.summary()"
      ],
      "execution_count": null,
      "outputs": [
        {
          "output_type": "stream",
          "text": [
            "Model: \"sequential\"\n",
            "_________________________________________________________________\n",
            "Layer (type)                 Output Shape              Param #   \n",
            "=================================================================\n",
            "conv2d (Conv2D)              (None, 224, 224, 16)      208       \n",
            "_________________________________________________________________\n",
            "max_pooling2d (MaxPooling2D) (None, 112, 112, 16)      0         \n",
            "_________________________________________________________________\n",
            "conv2d_1 (Conv2D)            (None, 112, 112, 32)      2080      \n",
            "_________________________________________________________________\n",
            "max_pooling2d_1 (MaxPooling2 (None, 56, 56, 32)        0         \n",
            "_________________________________________________________________\n",
            "conv2d_2 (Conv2D)            (None, 56, 56, 64)        8256      \n",
            "_________________________________________________________________\n",
            "max_pooling2d_2 (MaxPooling2 (None, 28, 28, 64)        0         \n",
            "_________________________________________________________________\n",
            "flatten_1 (Flatten)          (None, 50176)             0         \n",
            "_________________________________________________________________\n",
            "dense_1 (Dense)              (None, 500)               25088500  \n",
            "_________________________________________________________________\n",
            "dense_2 (Dense)              (None, 2)                 1002      \n",
            "=================================================================\n",
            "Total params: 25,100,046\n",
            "Trainable params: 25,100,046\n",
            "Non-trainable params: 0\n",
            "_________________________________________________________________\n"
          ],
          "name": "stdout"
        }
      ]
    },
    {
      "cell_type": "code",
      "metadata": {
        "id": "lkRgWMl96QWh"
      },
      "source": [
        "# tell the model what cost and optimization method to use\n",
        "model.compile(\n",
        "  loss='categorical_crossentropy',\n",
        "  optimizer='adam',\n",
        "  metrics=['accuracy']\n",
        ")\n"
      ],
      "execution_count": null,
      "outputs": []
    },
    {
      "cell_type": "code",
      "metadata": {
        "id": "2qLgab0f6QWl"
      },
      "source": [
        "# Use the Image Data Generator to import the images from the dataset\n",
        "from tensorflow.keras.preprocessing.image import ImageDataGenerator\n",
        "\n",
        "train_datagen = ImageDataGenerator(rescale = 1./255,\n",
        "                                   shear_range = 0.2,\n",
        "                                   zoom_range = 0.2,\n",
        "                                   horizontal_flip = True)\n",
        "\n",
        "test_datagen = ImageDataGenerator(rescale = 1./255)"
      ],
      "execution_count": null,
      "outputs": []
    },
    {
      "cell_type": "code",
      "metadata": {
        "id": "wa72P5IV6QWp",
        "outputId": "a30e61dd-994b-466d-ddbc-e9ecfada8ce3",
        "colab": {
          "base_uri": "https://localhost:8080/",
          "height": 33
        }
      },
      "source": [
        "# Make sure you provide the same target size as initialied for the image size\n",
        "training_set = train_datagen.flow_from_directory('drive/My Drive/Dataset2/cell_images',\n",
        "                                                 target_size = (224, 224),\n",
        "                                                 batch_size = 80,\n",
        "                                                 class_mode = 'categorical')"
      ],
      "execution_count": null,
      "outputs": [
        {
          "output_type": "stream",
          "text": [
            "Found 15998 images belonging to 2 classes.\n"
          ],
          "name": "stdout"
        }
      ]
    },
    {
      "cell_type": "code",
      "metadata": {
        "id": "FQPaErl46QWt",
        "outputId": "a84def10-fdc7-41a5-8f3b-beac6100570b",
        "colab": {
          "base_uri": "https://localhost:8080/",
          "height": 33
        }
      },
      "source": [
        "training_set"
      ],
      "execution_count": null,
      "outputs": [
        {
          "output_type": "execute_result",
          "data": {
            "text/plain": [
              "<tensorflow.python.keras.preprocessing.image.DirectoryIterator at 0x7f44935d7668>"
            ]
          },
          "metadata": {
            "tags": []
          },
          "execution_count": 18
        }
      ]
    },
    {
      "cell_type": "code",
      "metadata": {
        "id": "j6C12oYk6QWz",
        "outputId": "f9801bc7-4c82-43b3-95db-5b7d96306844",
        "colab": {
          "base_uri": "https://localhost:8080/",
          "height": 33
        }
      },
      "source": [
        "test_set = test_datagen.flow_from_directory('drive/My Drive/Dataset/Test',\n",
        "                                            target_size = (224, 224),\n",
        "                                            batch_size = 80,\n",
        "                                            class_mode = 'categorical')"
      ],
      "execution_count": null,
      "outputs": [
        {
          "output_type": "stream",
          "text": [
            "Found 134 images belonging to 2 classes.\n"
          ],
          "name": "stdout"
        }
      ]
    },
    {
      "cell_type": "code",
      "metadata": {
        "scrolled": true,
        "id": "JfoRzIOm6QW3",
        "outputId": "74629dc3-e62d-42bc-fcbf-6ff18b945d2e",
        "colab": {
          "base_uri": "https://localhost:8080/",
          "height": 353
        }
      },
      "source": [
        "# fit the model\n",
        "# Run the cell. It will take some time to execute\n",
        "r = model.fit_generator(\n",
        "  training_set,\n",
        "  validation_data=test_set,\n",
        "  epochs=8,\n",
        "  steps_per_epoch=len(training_set),\n",
        "  validation_steps=len(test_set)\n",
        ")"
      ],
      "execution_count": null,
      "outputs": [
        {
          "output_type": "stream",
          "text": [
            "WARNING:tensorflow:From <ipython-input-20-da577ed6f055>:8: Model.fit_generator (from tensorflow.python.keras.engine.training) is deprecated and will be removed in a future version.\n",
            "Instructions for updating:\n",
            "Please use Model.fit, which supports generators.\n",
            "Epoch 1/8\n",
            "200/200 [==============================] - 9937s 50s/step - loss: 0.7162 - accuracy: 0.6518 - val_loss: 0.5032 - val_accuracy: 0.7612\n",
            "Epoch 2/8\n",
            "200/200 [==============================] - 205s 1s/step - loss: 0.2520 - accuracy: 0.9039 - val_loss: 0.2319 - val_accuracy: 0.8881\n",
            "Epoch 3/8\n",
            "200/200 [==============================] - 202s 1s/step - loss: 0.2175 - accuracy: 0.9211 - val_loss: 0.2385 - val_accuracy: 0.9030\n",
            "Epoch 4/8\n",
            "200/200 [==============================] - 201s 1s/step - loss: 0.2036 - accuracy: 0.9274 - val_loss: 0.1798 - val_accuracy: 0.9179\n",
            "Epoch 5/8\n",
            "200/200 [==============================] - 199s 994ms/step - loss: 0.1868 - accuracy: 0.9331 - val_loss: 0.3807 - val_accuracy: 0.8433\n",
            "Epoch 6/8\n",
            "200/200 [==============================] - 199s 995ms/step - loss: 0.1861 - accuracy: 0.9361 - val_loss: 0.1898 - val_accuracy: 0.9179\n",
            "Epoch 7/8\n",
            "200/200 [==============================] - 200s 998ms/step - loss: 0.1833 - accuracy: 0.9366 - val_loss: 0.2042 - val_accuracy: 0.9254\n",
            "Epoch 8/8\n",
            "200/200 [==============================] - 199s 995ms/step - loss: 0.1722 - accuracy: 0.9409 - val_loss: 0.2072 - val_accuracy: 0.9254\n"
          ],
          "name": "stdout"
        }
      ]
    },
    {
      "cell_type": "code",
      "metadata": {
        "id": "Mr1D8RGJ6QW6"
      },
      "source": [
        ""
      ],
      "execution_count": null,
      "outputs": []
    },
    {
      "cell_type": "code",
      "metadata": {
        "id": "D8Ovwd576QW-",
        "outputId": "a42f46cf-2b95-4912-c9b1-67e175c65df8",
        "colab": {
          "base_uri": "https://localhost:8080/",
          "height": 531
        }
      },
      "source": [
        "# plot the loss\n",
        "plt.plot(r.history['loss'], label='train loss')\n",
        "plt.plot(r.history['val_loss'], label='val loss')\n",
        "plt.legend()\n",
        "plt.show()\n",
        "plt.savefig('LossVal_loss')\n",
        "\n",
        "# plot the accuracy\n",
        "plt.plot(r.history['accuracy'], label='train acc')\n",
        "plt.plot(r.history['val_accuracy'], label='val acc')\n",
        "plt.legend()\n",
        "plt.show()\n",
        "plt.savefig('AccVal_acc')"
      ],
      "execution_count": null,
      "outputs": [
        {
          "output_type": "display_data",
          "data": {
            "image/png": "[encoded data removed]",
            "text/plain": [
              "<Figure size 432x288 with 1 Axes>"
            ]
          },
          "metadata": {
            "tags": [],
            "needs_background": "light"
          }
        },
        {
          "output_type": "display_data",
          "data": {
            "image/png": "[encoded data removed]",
            "text/plain": [
              "<Figure size 432x288 with 1 Axes>"
            ]
          },
          "metadata": {
            "tags": [],
            "needs_background": "light"
          }
        },
        {
          "output_type": "display_data",
          "data": {
            "text/plain": [
              "<Figure size 432x288 with 0 Axes>"
            ]
          },
          "metadata": {
            "tags": []
          }
        }
      ]
    },
    {
      "cell_type": "code",
      "metadata": {
        "id": "wmb2M-sj6QXC"
      },
      "source": [
        "# save it as a h5 file\n",
        "\n",
        "\n",
        "from tensorflow.keras.models import load_model\n",
        "\n",
        "model.save('model_vgg19_Main.h5')"
      ],
      "execution_count": null,
      "outputs": []
    },
    {
      "cell_type": "code",
      "metadata": {
        "id": "ytxMoy936QXF"
      },
      "source": [
        ""
      ],
      "execution_count": null,
      "outputs": []
    },
    {
      "cell_type": "code",
      "metadata": {
        "id": "QdayAW-e6QXJ"
      },
      "source": [
        "\n",
        "y_pred = model.predict(test_set)\n"
      ],
      "execution_count": null,
      "outputs": []
    },
    {
      "cell_type": "code",
      "metadata": {
        "id": "AjbuVHpx6QXM",
        "outputId": "ce0fdaaa-33fe-4c58-f727-d47d91b702bb",
        "colab": {
          "base_uri": "https://localhost:8080/",
          "height": 1000
        }
      },
      "source": [
        "y_pred"
      ],
      "execution_count": null,
      "outputs": [
        {
          "output_type": "execute_result",
          "data": {
            "text/plain": [
              "array([[9.93561149e-01, 6.43880665e-03],\n",
              "       [7.12722307e-03, 9.92872715e-01],\n",
              "       [8.94546330e-01, 1.05453685e-01],\n",
              "       [4.34827618e-03, 9.95651782e-01],\n",
              "       [9.99935269e-01, 6.47263150e-05],\n",
              "       [7.11499631e-01, 2.88500309e-01],\n",
              "       [9.93679523e-01, 6.32047374e-03],\n",
              "       [4.99436736e-01, 5.00563264e-01],\n",
              "       [4.10072552e-03, 9.95899260e-01],\n",
              "       [1.45915359e-01, 8.54084611e-01],\n",
              "       [8.90707970e-03, 9.91092861e-01],\n",
              "       [1.62152816e-02, 9.83784676e-01],\n",
              "       [9.95410860e-01, 4.58914321e-03],\n",
              "       [1.66813154e-02, 9.83318686e-01],\n",
              "       [9.81853783e-01, 1.81462057e-02],\n",
              "       [3.64331268e-02, 9.63566899e-01],\n",
              "       [6.96771741e-02, 9.30322766e-01],\n",
              "       [9.74814117e-01, 2.51858588e-02],\n",
              "       [9.95794058e-01, 4.20597708e-03],\n",
              "       [9.97369766e-01, 2.63026240e-03],\n",
              "       [1.76707413e-02, 9.82329309e-01],\n",
              "       [5.34047969e-02, 9.46595132e-01],\n",
              "       [7.33216712e-03, 9.92667854e-01],\n",
              "       [7.18370778e-03, 9.92816329e-01],\n",
              "       [9.84697938e-01, 1.53020788e-02],\n",
              "       [1.13629410e-02, 9.88637030e-01],\n",
              "       [9.97685671e-01, 2.31437315e-03],\n",
              "       [9.96940494e-01, 3.05958930e-03],\n",
              "       [3.20140943e-02, 9.67985868e-01],\n",
              "       [9.93634105e-01, 6.36583520e-03],\n",
              "       [9.78138864e-01, 2.18611732e-02],\n",
              "       [9.99199569e-01, 8.00435140e-04],\n",
              "       [8.74127924e-01, 1.25872076e-01],\n",
              "       [9.99695063e-01, 3.04947462e-04],\n",
              "       [1.24040265e-02, 9.87596035e-01],\n",
              "       [4.05732915e-03, 9.95942652e-01],\n",
              "       [1.22960601e-02, 9.87703919e-01],\n",
              "       [7.81830028e-03, 9.92181778e-01],\n",
              "       [9.69659090e-01, 3.03409267e-02],\n",
              "       [9.94503736e-01, 5.49628399e-03],\n",
              "       [9.97636318e-01, 2.36363988e-03],\n",
              "       [3.83129455e-02, 9.61687088e-01],\n",
              "       [9.92406428e-01, 7.59354467e-03],\n",
              "       [9.87942874e-01, 1.20570892e-02],\n",
              "       [9.87415135e-01, 1.25848539e-02],\n",
              "       [9.71987307e-01, 2.80126855e-02],\n",
              "       [9.96203363e-01, 3.79660097e-03],\n",
              "       [9.83602181e-03, 9.90163982e-01],\n",
              "       [8.79746974e-01, 1.20253064e-01],\n",
              "       [9.94030416e-01, 5.96950250e-03],\n",
              "       [6.97739702e-03, 9.93022621e-01],\n",
              "       [9.78626728e-01, 2.13733055e-02],\n",
              "       [5.61324228e-03, 9.94386792e-01],\n",
              "       [3.96123156e-03, 9.96038795e-01],\n",
              "       [4.13253391e-03, 9.95867491e-01],\n",
              "       [9.09376562e-01, 9.06233713e-02],\n",
              "       [9.84182179e-01, 1.58177745e-02],\n",
              "       [9.97653663e-01, 2.34633125e-03],\n",
              "       [1.29225254e-01, 8.70774686e-01],\n",
              "       [9.73344624e-01, 2.66554020e-02],\n",
              "       [2.37977076e-02, 9.76202309e-01],\n",
              "       [3.86159271e-02, 9.61384118e-01],\n",
              "       [9.81915236e-01, 1.80847794e-02],\n",
              "       [9.00878664e-03, 9.90991235e-01],\n",
              "       [1.93349719e-02, 9.80665088e-01],\n",
              "       [9.98678267e-01, 1.32167351e-03],\n",
              "       [9.86632288e-01, 1.33677581e-02],\n",
              "       [9.97494698e-01, 2.50532129e-03],\n",
              "       [9.12676752e-03, 9.90873218e-01],\n",
              "       [8.04682914e-03, 9.91953194e-01],\n",
              "       [5.39178634e-03, 9.94608164e-01],\n",
              "       [9.94839728e-01, 5.16031869e-03],\n",
              "       [9.99039948e-01, 9.59971745e-04],\n",
              "       [3.80701036e-03, 9.96192932e-01],\n",
              "       [3.98000814e-02, 9.60199893e-01],\n",
              "       [5.31212151e-01, 4.68787879e-01],\n",
              "       [9.52362835e-01, 4.76372167e-02],\n",
              "       [9.85666096e-01, 1.43338973e-02],\n",
              "       [9.77153420e-01, 2.28466112e-02],\n",
              "       [3.01718898e-02, 9.69828129e-01],\n",
              "       [9.87001538e-01, 1.29984105e-02],\n",
              "       [9.95748103e-01, 4.25190106e-03],\n",
              "       [9.77404118e-01, 2.25958861e-02],\n",
              "       [3.54829907e-01, 6.45170033e-01],\n",
              "       [9.67868388e-01, 3.21316496e-02],\n",
              "       [9.92760301e-01, 7.23971007e-03],\n",
              "       [9.78952527e-01, 2.10474730e-02],\n",
              "       [9.67566133e-01, 3.24338786e-02],\n",
              "       [9.97732162e-01, 2.26777187e-03],\n",
              "       [9.87217367e-01, 1.27826165e-02],\n",
              "       [9.98306155e-01, 1.69382663e-03],\n",
              "       [9.88958955e-01, 1.10410061e-02],\n",
              "       [9.17224824e-01, 8.27751830e-02],\n",
              "       [9.99307394e-01, 6.92557485e-04],\n",
              "       [5.06129721e-03, 9.94938731e-01],\n",
              "       [9.05871749e-01, 9.41282660e-02],\n",
              "       [3.68987471e-02, 9.63101268e-01],\n",
              "       [9.98899341e-01, 1.10061199e-03],\n",
              "       [1.00399598e-01, 8.99600387e-01],\n",
              "       [1.72300804e-02, 9.82769966e-01],\n",
              "       [9.86785233e-01, 1.32147726e-02],\n",
              "       [9.95362520e-01, 4.63748164e-03],\n",
              "       [9.91053522e-01, 8.94642249e-03],\n",
              "       [2.25856099e-02, 9.77414370e-01],\n",
              "       [9.94555712e-01, 5.44427382e-03],\n",
              "       [9.71600354e-01, 2.83996556e-02],\n",
              "       [1.51514914e-02, 9.84848559e-01],\n",
              "       [9.95955586e-01, 4.04446153e-03],\n",
              "       [9.91779149e-01, 8.22086353e-03],\n",
              "       [5.68055473e-02, 9.43194449e-01],\n",
              "       [9.67756808e-01, 3.22431363e-02],\n",
              "       [9.93075967e-01, 6.92400243e-03],\n",
              "       [7.00300280e-03, 9.92996991e-01],\n",
              "       [8.99774671e-01, 1.00225404e-01],\n",
              "       [8.79243314e-01, 1.20756686e-01],\n",
              "       [9.52637196e-03, 9.90473568e-01],\n",
              "       [3.69647960e-03, 9.96303558e-01],\n",
              "       [9.95305598e-01, 4.69438918e-03],\n",
              "       [9.91538167e-01, 8.46180972e-03],\n",
              "       [1.03982903e-01, 8.96017075e-01],\n",
              "       [9.45344925e-01, 5.46551272e-02],\n",
              "       [1.29923197e-02, 9.87007678e-01],\n",
              "       [9.89100873e-01, 1.08991871e-02],\n",
              "       [9.82026875e-01, 1.79731771e-02],\n",
              "       [5.67614973e-01, 4.32385057e-01],\n",
              "       [1.98365115e-02, 9.80163515e-01],\n",
              "       [9.88822460e-01, 1.11775771e-02],\n",
              "       [9.66817796e-01, 3.31822708e-02],\n",
              "       [9.99328852e-01, 6.71150803e-04],\n",
              "       [9.86744583e-01, 1.32554201e-02],\n",
              "       [8.17678031e-03, 9.91823256e-01],\n",
              "       [9.35992133e-03, 9.90640044e-01],\n",
              "       [8.24071705e-01, 1.75928354e-01],\n",
              "       [9.90715146e-01, 9.28483251e-03]], dtype=float32)"
            ]
          },
          "metadata": {
            "tags": []
          },
          "execution_count": 24
        }
      ]
    },
    {
      "cell_type": "code",
      "metadata": {
        "id": "SSllYfwq6QXQ"
      },
      "source": [
        "import numpy as np\n",
        "y_pred = np.argmax(y_pred, axis=1)"
      ],
      "execution_count": null,
      "outputs": []
    },
    {
      "cell_type": "code",
      "metadata": {
        "id": "A0y2R6Al6QXU",
        "outputId": "171cc6cc-c125-457f-901c-86ec7f50c6a0",
        "colab": {
          "base_uri": "https://localhost:8080/",
          "height": 133
        }
      },
      "source": [
        "y_pred"
      ],
      "execution_count": null,
      "outputs": [
        {
          "output_type": "execute_result",
          "data": {
            "text/plain": [
              "array([0, 1, 0, 1, 0, 0, 0, 1, 1, 1, 1, 1, 0, 1, 0, 1, 1, 0, 0, 0, 1, 1,\n",
              "       1, 1, 0, 1, 0, 0, 1, 0, 0, 0, 0, 0, 1, 1, 1, 1, 0, 0, 0, 1, 0, 0,\n",
              "       0, 0, 0, 1, 0, 0, 1, 0, 1, 1, 1, 0, 0, 0, 1, 0, 1, 1, 0, 1, 1, 0,\n",
              "       0, 0, 1, 1, 1, 0, 0, 1, 1, 0, 0, 0, 0, 1, 0, 0, 0, 1, 0, 0, 0, 0,\n",
              "       0, 0, 0, 0, 0, 0, 1, 0, 1, 0, 1, 1, 0, 0, 0, 1, 0, 0, 1, 0, 0, 1,\n",
              "       0, 0, 1, 0, 0, 1, 1, 0, 0, 1, 0, 1, 0, 0, 0, 1, 0, 0, 0, 0, 1, 1,\n",
              "       0, 0])"
            ]
          },
          "metadata": {
            "tags": []
          },
          "execution_count": 26
        }
      ]
    },
    {
      "cell_type": "code",
      "metadata": {
        "id": "_ri6EmGT6QXY"
      },
      "source": [
        ""
      ],
      "execution_count": null,
      "outputs": []
    },
    {
      "cell_type": "code",
      "metadata": {
        "id": "lDEMrvSp6QXc"
      },
      "source": [
        "from tensorflow.keras.models import load_model\n",
        "from tensorflow.keras.preprocessing import image"
      ],
      "execution_count": null,
      "outputs": []
    },
    {
      "cell_type": "code",
      "metadata": {
        "id": "odHA-EG46QXh"
      },
      "source": [
        "model=load_model('model_vgg19_Main.h5')"
      ],
      "execution_count": null,
      "outputs": []
    },
    {
      "cell_type": "code",
      "metadata": {
        "id": "9qwlicNP6QXk"
      },
      "source": [
        ""
      ],
      "execution_count": null,
      "outputs": []
    },
    {
      "cell_type": "code",
      "metadata": {
        "id": "_QFlqkqB6QXo"
      },
      "source": [
        "img=image.load_img('drive/My Drive/Dataset/Test/Uninfected/C3thin_original_IMG_20150608_162922_cell_217.png',target_size=(224,224))\n",
        "\n"
      ],
      "execution_count": null,
      "outputs": []
    },
    {
      "cell_type": "code",
      "metadata": {
        "id": "DpxkamzS6QXs",
        "outputId": "3bf03e96-3918-41ea-8515-f5f0d741ba88",
        "colab": {
          "base_uri": "https://localhost:8080/",
          "height": 833
        }
      },
      "source": [
        "x=image.img_to_array(img)\n",
        "x"
      ],
      "execution_count": null,
      "outputs": [
        {
          "output_type": "execute_result",
          "data": {
            "text/plain": [
              "array([[[0., 0., 0.],\n",
              "        [0., 0., 0.],\n",
              "        [0., 0., 0.],\n",
              "        ...,\n",
              "        [0., 0., 0.],\n",
              "        [0., 0., 0.],\n",
              "        [0., 0., 0.]],\n",
              "\n",
              "       [[0., 0., 0.],\n",
              "        [0., 0., 0.],\n",
              "        [0., 0., 0.],\n",
              "        ...,\n",
              "        [0., 0., 0.],\n",
              "        [0., 0., 0.],\n",
              "        [0., 0., 0.]],\n",
              "\n",
              "       [[0., 0., 0.],\n",
              "        [0., 0., 0.],\n",
              "        [0., 0., 0.],\n",
              "        ...,\n",
              "        [0., 0., 0.],\n",
              "        [0., 0., 0.],\n",
              "        [0., 0., 0.]],\n",
              "\n",
              "       ...,\n",
              "\n",
              "       [[0., 0., 0.],\n",
              "        [0., 0., 0.],\n",
              "        [0., 0., 0.],\n",
              "        ...,\n",
              "        [0., 0., 0.],\n",
              "        [0., 0., 0.],\n",
              "        [0., 0., 0.]],\n",
              "\n",
              "       [[0., 0., 0.],\n",
              "        [0., 0., 0.],\n",
              "        [0., 0., 0.],\n",
              "        ...,\n",
              "        [0., 0., 0.],\n",
              "        [0., 0., 0.],\n",
              "        [0., 0., 0.]],\n",
              "\n",
              "       [[0., 0., 0.],\n",
              "        [0., 0., 0.],\n",
              "        [0., 0., 0.],\n",
              "        ...,\n",
              "        [0., 0., 0.],\n",
              "        [0., 0., 0.],\n",
              "        [0., 0., 0.]]], dtype=float32)"
            ]
          },
          "metadata": {
            "tags": []
          },
          "execution_count": 56
        }
      ]
    },
    {
      "cell_type": "code",
      "metadata": {
        "id": "UU66polq6QXv",
        "outputId": "ea9632a8-1ee6-4fb4-dab4-91da618832f9",
        "colab": {
          "base_uri": "https://localhost:8080/",
          "height": 33
        }
      },
      "source": [
        "x.shape"
      ],
      "execution_count": null,
      "outputs": [
        {
          "output_type": "execute_result",
          "data": {
            "text/plain": [
              "(224, 224, 3)"
            ]
          },
          "metadata": {
            "tags": []
          },
          "execution_count": 57
        }
      ]
    },
    {
      "cell_type": "code",
      "metadata": {
        "id": "PK8G7pf76QXz"
      },
      "source": [
        "x=x/255"
      ],
      "execution_count": null,
      "outputs": []
    },
    {
      "cell_type": "code",
      "metadata": {
        "id": "P556PIUD6QX2",
        "outputId": "0a0084a5-f8eb-44ff-f454-ed7e938f5db7",
        "colab": {
          "base_uri": "https://localhost:8080/",
          "height": 33
        }
      },
      "source": [
        "x=np.expand_dims(x,axis=0)\n",
        "img_data=preprocess_input(x)\n",
        "img_data.shape"
      ],
      "execution_count": null,
      "outputs": [
        {
          "output_type": "execute_result",
          "data": {
            "text/plain": [
              "(1, 224, 224, 3)"
            ]
          },
          "metadata": {
            "tags": []
          },
          "execution_count": 59
        }
      ]
    },
    {
      "cell_type": "code",
      "metadata": {
        "id": "KaOEVHbv6QX6",
        "outputId": "c8b6aabe-03ed-4ef7-d22b-149844ad29cd",
        "colab": {
          "base_uri": "https://localhost:8080/",
          "height": 33
        }
      },
      "source": [
        "model.predict(img_data)"
      ],
      "execution_count": null,
      "outputs": [
        {
          "output_type": "execute_result",
          "data": {
            "text/plain": [
              "array([[1., 0.]], dtype=float32)"
            ]
          },
          "metadata": {
            "tags": []
          },
          "execution_count": 60
        }
      ]
    },
    {
      "cell_type": "code",
      "metadata": {
        "id": "UiV8HB0z6QX9"
      },
      "source": [
        "a=np.argmax(model.predict(img_data), axis=1)"
      ],
      "execution_count": null,
      "outputs": []
    },
    {
      "cell_type": "code",
      "metadata": {
        "id": "oNpET3Hs6QYB",
        "outputId": "b981ca91-232b-43ba-ed2f-8694fa846325",
        "colab": {
          "base_uri": "https://localhost:8080/",
          "height": 33
        }
      },
      "source": [
        "if(a==1):\n",
        "    print(\"Uninfected\")\n",
        "else:\n",
        "    print(\"Infected\")"
      ],
      "execution_count": null,
      "outputs": [
        {
          "output_type": "stream",
          "text": [
            "Infected\n"
          ],
          "name": "stdout"
        }
      ]
    },
    {
      "cell_type": "code",
      "metadata": {
        "id": "9sP0dsfA6QYF"
      },
      "source": [
        ""
      ],
      "execution_count": null,
      "outputs": []
    },
    {
      "cell_type": "code",
      "metadata": {
        "id": "W9N8Ba7h6QYI"
      },
      "source": [
        ""
      ],
      "execution_count": null,
      "outputs": []
    }
  ]
}