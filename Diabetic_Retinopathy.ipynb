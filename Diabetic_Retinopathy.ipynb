{
  "nbformat": 4,
  "nbformat_minor": 0,
  "metadata": {
    "colab": {
      "name": "Diabetic Retinopathy.ipynb",
      "provenance": []
    },
    "kernelspec": {
      "name": "python3",
      "display_name": "Python 3"
    },
    "accelerator": "GPU"
  },
  "cells": [
    {
      "cell_type": "code",
      "metadata": {
        "id": "WGeGUlRUL7Uq",
        "outputId": "6b212222-77dc-4fbe-cdc5-bb11362e84a9",
        "colab": {
          "base_uri": "https://localhost:8080/",
          "height": 33
        }
      },
      "source": [
        "from google.colab import drive\n",
        "drive.mount('/content/drive')"
      ],
      "execution_count": null,
      "outputs": [
        {
          "output_type": "stream",
          "text": [
            "Mounted at /content/drive\n"
          ],
          "name": "stdout"
        }
      ]
    },
    {
      "cell_type": "code",
      "metadata": {
        "id": "_J0b0e8XK4HY"
      },
      "source": [
        "from __future__ import print_function, division\n",
        "from builtins import range, input\n",
        "\n",
        "from keras.layers import Input, Lambda, Dense, Flatten\n",
        "from keras.models import Model\n",
        "from keras.applications.vgg19 import VGG19\n",
        "from keras.applications.vgg19 import preprocess_input\n",
        "from keras.preprocessing import image\n",
        "from keras.preprocessing.image import ImageDataGenerator\n",
        "\n",
        "from sklearn.metrics import confusion_matrix\n",
        "import numpy as np\n",
        "import matplotlib.pyplot as plt\n",
        "\n",
        "from glob import glob\n"
      ],
      "execution_count": null,
      "outputs": []
    },
    {
      "cell_type": "code",
      "metadata": {
        "id": "04CmX8gjK9KA"
      },
      "source": [
        "import os\n",
        "data_path = os.path.abspath('drive/My Drive/Diabetes/gaussian_filtered_images/gaussian_filtered_images')"
      ],
      "execution_count": null,
      "outputs": []
    },
    {
      "cell_type": "code",
      "metadata": {
        "id": "bz5YFGMdLArM",
        "outputId": "f5d4ae00-a8a9-41d8-e817-34c1a0b886c7",
        "colab": {
          "base_uri": "https://localhost:8080/",
          "height": 50
        }
      },
      "source": [
        "vgg = VGG19(input_shape=[224,224,3], weights='imagenet', include_top=False)"
      ],
      "execution_count": null,
      "outputs": [
        {
          "output_type": "stream",
          "text": [
            "Downloading data from https://storage.googleapis.com/tensorflow/keras-applications/vgg19/vgg19_weights_tf_dim_ordering_tf_kernels_notop.h5\n",
            "80142336/80134624 [==============================] - 1s 0us/step\n"
          ],
          "name": "stdout"
        }
      ]
    },
    {
      "cell_type": "code",
      "metadata": {
        "id": "ghF5bVAyLFkc"
      },
      "source": [
        "for layer in vgg.layers:\n",
        "  layer.trainable = False"
      ],
      "execution_count": null,
      "outputs": []
    },
    {
      "cell_type": "code",
      "metadata": {
        "id": "KyC4QIrOLVoY"
      },
      "source": [
        "x = Flatten()(vgg.output)\n",
        "prediction = Dense(5, activation='softmax')(x)"
      ],
      "execution_count": null,
      "outputs": []
    },
    {
      "cell_type": "code",
      "metadata": {
        "id": "4RjK5WScLMOm"
      },
      "source": [
        "model = Model(inputs=vgg.input, outputs=prediction)"
      ],
      "execution_count": null,
      "outputs": []
    },
    {
      "cell_type": "code",
      "metadata": {
        "id": "gD1eXKFlLXUI",
        "outputId": "281dc8a5-f80e-469e-bece-0fd6c8417b71",
        "colab": {
          "base_uri": "https://localhost:8080/",
          "height": 950
        }
      },
      "source": [
        "model.summary()"
      ],
      "execution_count": null,
      "outputs": [
        {
          "output_type": "stream",
          "text": [
            "Model: \"functional_3\"\n",
            "_________________________________________________________________\n",
            "Layer (type)                 Output Shape              Param #   \n",
            "=================================================================\n",
            "input_2 (InputLayer)         [(None, 224, 224, 3)]     0         \n",
            "_________________________________________________________________\n",
            "block1_conv1 (Conv2D)        (None, 224, 224, 64)      1792      \n",
            "_________________________________________________________________\n",
            "block1_conv2 (Conv2D)        (None, 224, 224, 64)      36928     \n",
            "_________________________________________________________________\n",
            "block1_pool (MaxPooling2D)   (None, 112, 112, 64)      0         \n",
            "_________________________________________________________________\n",
            "block2_conv1 (Conv2D)        (None, 112, 112, 128)     73856     \n",
            "_________________________________________________________________\n",
            "block2_conv2 (Conv2D)        (None, 112, 112, 128)     147584    \n",
            "_________________________________________________________________\n",
            "block2_pool (MaxPooling2D)   (None, 56, 56, 128)       0         \n",
            "_________________________________________________________________\n",
            "block3_conv1 (Conv2D)        (None, 56, 56, 256)       295168    \n",
            "_________________________________________________________________\n",
            "block3_conv2 (Conv2D)        (None, 56, 56, 256)       590080    \n",
            "_________________________________________________________________\n",
            "block3_conv3 (Conv2D)        (None, 56, 56, 256)       590080    \n",
            "_________________________________________________________________\n",
            "block3_conv4 (Conv2D)        (None, 56, 56, 256)       590080    \n",
            "_________________________________________________________________\n",
            "block3_pool (MaxPooling2D)   (None, 28, 28, 256)       0         \n",
            "_________________________________________________________________\n",
            "block4_conv1 (Conv2D)        (None, 28, 28, 512)       1180160   \n",
            "_________________________________________________________________\n",
            "block4_conv2 (Conv2D)        (None, 28, 28, 512)       2359808   \n",
            "_________________________________________________________________\n",
            "block4_conv3 (Conv2D)        (None, 28, 28, 512)       2359808   \n",
            "_________________________________________________________________\n",
            "block4_conv4 (Conv2D)        (None, 28, 28, 512)       2359808   \n",
            "_________________________________________________________________\n",
            "block4_pool (MaxPooling2D)   (None, 14, 14, 512)       0         \n",
            "_________________________________________________________________\n",
            "block5_conv1 (Conv2D)        (None, 14, 14, 512)       2359808   \n",
            "_________________________________________________________________\n",
            "block5_conv2 (Conv2D)        (None, 14, 14, 512)       2359808   \n",
            "_________________________________________________________________\n",
            "block5_conv3 (Conv2D)        (None, 14, 14, 512)       2359808   \n",
            "_________________________________________________________________\n",
            "block5_conv4 (Conv2D)        (None, 14, 14, 512)       2359808   \n",
            "_________________________________________________________________\n",
            "block5_pool (MaxPooling2D)   (None, 7, 7, 512)         0         \n",
            "_________________________________________________________________\n",
            "flatten_1 (Flatten)          (None, 25088)             0         \n",
            "_________________________________________________________________\n",
            "dense_1 (Dense)              (None, 5)                 125445    \n",
            "=================================================================\n",
            "Total params: 20,149,829\n",
            "Trainable params: 125,445\n",
            "Non-trainable params: 20,024,384\n",
            "_________________________________________________________________\n"
          ],
          "name": "stdout"
        }
      ]
    },
    {
      "cell_type": "code",
      "metadata": {
        "id": "t8zi7MP0LcOE"
      },
      "source": [
        "model.compile(\n",
        "  loss='categorical_crossentropy',\n",
        "  optimizer='rmsprop',\n",
        "  metrics=['accuracy'])"
      ],
      "execution_count": null,
      "outputs": []
    },
    {
      "cell_type": "code",
      "metadata": {
        "id": "mSFTz-gCLg9m"
      },
      "source": [
        "datagen = ImageDataGenerator(validation_split=0.2, preprocessing_function = preprocess_input)"
      ],
      "execution_count": null,
      "outputs": []
    },
    {
      "cell_type": "code",
      "metadata": {
        "id": "-WeE6RyYLlat",
        "outputId": "4e2a23e6-8859-4a71-f419-fd1d0b41b234",
        "colab": {
          "base_uri": "https://localhost:8080/",
          "height": 33
        }
      },
      "source": [
        "train_generator = datagen.flow_from_directory(\n",
        "    data_path,\n",
        "    subset='training',\n",
        "    target_size=[224,224],\n",
        "    classes = ['Mild','No_DR','Moderate','Proliferate','Severe'],\n",
        "    class_mode = 'categorical')"
      ],
      "execution_count": null,
      "outputs": [
        {
          "output_type": "stream",
          "text": [
            "Found 2695 images belonging to 5 classes.\n"
          ],
          "name": "stdout"
        }
      ]
    },
    {
      "cell_type": "code",
      "metadata": {
        "id": "aycMa7U9LmgY",
        "outputId": "7d2a996b-4c13-4623-d828-a0ff3395efde",
        "colab": {
          "base_uri": "https://localhost:8080/",
          "height": 33
        }
      },
      "source": [
        "valid_generator = datagen.flow_from_directory(\n",
        "    data_path, \n",
        "    subset='validation',\n",
        "    target_size=[224,224],\n",
        "    classes = ['Mild','No_DR','Moderate','Proliferate','Severe'],\n",
        "    class_mode = 'categorical')"
      ],
      "execution_count": null,
      "outputs": [
        {
          "output_type": "stream",
          "text": [
            "Found 672 images belonging to 5 classes.\n"
          ],
          "name": "stdout"
        }
      ]
    },
    {
      "cell_type": "code",
      "metadata": {
        "id": "7gWo_REJLsRp",
        "outputId": "f222763e-fb07-4eca-c5ac-f96ab82148c6",
        "colab": {
          "base_uri": "https://localhost:8080/",
          "height": 550
        }
      },
      "source": [
        "r = model.fit_generator(\n",
        "  train_generator,\n",
        "  validation_data=valid_generator,\n",
        "  epochs=16,\n",
        "  steps_per_epoch= len(train_generator),\n",
        "  verbose = 1)"
      ],
      "execution_count": null,
      "outputs": [
        {
          "output_type": "stream",
          "text": [
            "Epoch 1/16\n",
            "85/85 [==============================] - 16s 186ms/step - loss: 2.4847 - accuracy: 0.8950 - val_loss: 6.7897 - val_accuracy: 0.7872\n",
            "Epoch 2/16\n",
            "85/85 [==============================] - 17s 195ms/step - loss: 2.1365 - accuracy: 0.9017 - val_loss: 5.6014 - val_accuracy: 0.8274\n",
            "Epoch 3/16\n",
            "85/85 [==============================] - 16s 192ms/step - loss: 1.6327 - accuracy: 0.9191 - val_loss: 5.5265 - val_accuracy: 0.8214\n",
            "Epoch 4/16\n",
            "85/85 [==============================] - 16s 185ms/step - loss: 1.5278 - accuracy: 0.9351 - val_loss: 5.4298 - val_accuracy: 0.8214\n",
            "Epoch 5/16\n",
            "85/85 [==============================] - 16s 183ms/step - loss: 1.7178 - accuracy: 0.9213 - val_loss: 5.6579 - val_accuracy: 0.8348\n",
            "Epoch 6/16\n",
            "85/85 [==============================] - 16s 185ms/step - loss: 1.5415 - accuracy: 0.9325 - val_loss: 5.2603 - val_accuracy: 0.8304\n",
            "Epoch 7/16\n",
            "85/85 [==============================] - 16s 189ms/step - loss: 1.1101 - accuracy: 0.9421 - val_loss: 8.5775 - val_accuracy: 0.7619\n",
            "Epoch 8/16\n",
            "85/85 [==============================] - 16s 189ms/step - loss: 1.0940 - accuracy: 0.9455 - val_loss: 6.1887 - val_accuracy: 0.8482\n",
            "Epoch 9/16\n",
            "85/85 [==============================] - 16s 187ms/step - loss: 1.3700 - accuracy: 0.9365 - val_loss: 6.8510 - val_accuracy: 0.7783\n",
            "Epoch 10/16\n",
            "85/85 [==============================] - 16s 186ms/step - loss: 1.2449 - accuracy: 0.9414 - val_loss: 6.8893 - val_accuracy: 0.8452\n",
            "Epoch 11/16\n",
            "85/85 [==============================] - 16s 186ms/step - loss: 1.0677 - accuracy: 0.9484 - val_loss: 5.7761 - val_accuracy: 0.8304\n",
            "Epoch 12/16\n",
            "85/85 [==============================] - 16s 187ms/step - loss: 1.0026 - accuracy: 0.9570 - val_loss: 6.7519 - val_accuracy: 0.8185\n",
            "Epoch 13/16\n",
            "85/85 [==============================] - 16s 188ms/step - loss: 0.8362 - accuracy: 0.9614 - val_loss: 5.4584 - val_accuracy: 0.8304\n",
            "Epoch 14/16\n",
            "85/85 [==============================] - 16s 188ms/step - loss: 0.9714 - accuracy: 0.9544 - val_loss: 7.3174 - val_accuracy: 0.8095\n",
            "Epoch 15/16\n",
            "85/85 [==============================] - 16s 187ms/step - loss: 1.0657 - accuracy: 0.9577 - val_loss: 7.7652 - val_accuracy: 0.8170\n",
            "Epoch 16/16\n",
            "85/85 [==============================] - 16s 187ms/step - loss: 0.9093 - accuracy: 0.9644 - val_loss: 8.3307 - val_accuracy: 0.7812\n"
          ],
          "name": "stdout"
        }
      ]
    },
    {
      "cell_type": "code",
      "metadata": {
        "id": "2Nn2HPtSLtQU",
        "outputId": "116cdcdf-fd77-4e9f-a4c2-95f76d7b485c",
        "colab": {
          "base_uri": "https://localhost:8080/",
          "height": 295
        }
      },
      "source": [
        "plt.plot(r.history['accuracy'])\n",
        "plt.plot(r.history['val_accuracy'])\n",
        "plt.title('Model Accuracy')\n",
        "plt.ylabel('Accuracy')\n",
        "plt.xlabel('Number of Epochs')\n",
        "plt.legend(['train', 'test'], loc='upper left')\n",
        "plt.show()"
      ],
      "execution_count": null,
      "outputs": [
        {
          "output_type": "display_data",
          "data": {
            "image/png": "[encoded data removed]",
            "text/plain": [
              "<Figure size 432x288 with 1 Axes>"
            ]
          },
          "metadata": {
            "tags": [],
            "needs_background": "light"
          }
        }
      ]
    },
    {
      "cell_type": "code",
      "metadata": {
        "id": "GQG0ME7Aeagq"
      },
      "source": [
        "from tensorflow.keras.models import load_model\n",
        "\n",
        "model.save('model_vgg19_diabetes.h5')"
      ],
      "execution_count": null,
      "outputs": []
    }
  ]
}